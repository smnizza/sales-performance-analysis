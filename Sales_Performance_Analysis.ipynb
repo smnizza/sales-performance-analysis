{
  "nbformat": 4,
  "nbformat_minor": 0,
  "metadata": {
    "colab": {
      "provenance": []
    },
    "kernelspec": {
      "name": "python3",
      "display_name": "Python 3"
    },
    "language_info": {
      "name": "python"
    }
  },
  "cells": [
    {
      "cell_type": "markdown",
      "source": [
        "# Sales Performance Analysis"
      ],
      "metadata": {
        "id": "z7GRixR_-w1d"
      }
    },
    {
      "cell_type": "code",
      "execution_count": 2,
      "metadata": {
        "colab": {
          "base_uri": "https://localhost:8080/",
          "height": 566
        },
        "id": "89EiRSZW08U2",
        "outputId": "00e9253d-38b8-4950-b605-da91843d88c3"
      },
      "outputs": [
        {
          "output_type": "display_data",
          "data": {
            "text/plain": [
              "<IPython.core.display.HTML object>"
            ],
            "text/html": [
              "\n",
              "     <input type=\"file\" id=\"files-fe5e7ac3-3663-45b9-854e-6b16a4bb72a9\" name=\"files[]\" multiple disabled\n",
              "        style=\"border:none\" />\n",
              "     <output id=\"result-fe5e7ac3-3663-45b9-854e-6b16a4bb72a9\">\n",
              "      Upload widget is only available when the cell has been executed in the\n",
              "      current browser session. Please rerun this cell to enable.\n",
              "      </output>\n",
              "      <script>// Copyright 2017 Google LLC\n",
              "//\n",
              "// Licensed under the Apache License, Version 2.0 (the \"License\");\n",
              "// you may not use this file except in compliance with the License.\n",
              "// You may obtain a copy of the License at\n",
              "//\n",
              "//      http://www.apache.org/licenses/LICENSE-2.0\n",
              "//\n",
              "// Unless required by applicable law or agreed to in writing, software\n",
              "// distributed under the License is distributed on an \"AS IS\" BASIS,\n",
              "// WITHOUT WARRANTIES OR CONDITIONS OF ANY KIND, either express or implied.\n",
              "// See the License for the specific language governing permissions and\n",
              "// limitations under the License.\n",
              "\n",
              "/**\n",
              " * @fileoverview Helpers for google.colab Python module.\n",
              " */\n",
              "(function(scope) {\n",
              "function span(text, styleAttributes = {}) {\n",
              "  const element = document.createElement('span');\n",
              "  element.textContent = text;\n",
              "  for (const key of Object.keys(styleAttributes)) {\n",
              "    element.style[key] = styleAttributes[key];\n",
              "  }\n",
              "  return element;\n",
              "}\n",
              "\n",
              "// Max number of bytes which will be uploaded at a time.\n",
              "const MAX_PAYLOAD_SIZE = 100 * 1024;\n",
              "\n",
              "function _uploadFiles(inputId, outputId) {\n",
              "  const steps = uploadFilesStep(inputId, outputId);\n",
              "  const outputElement = document.getElementById(outputId);\n",
              "  // Cache steps on the outputElement to make it available for the next call\n",
              "  // to uploadFilesContinue from Python.\n",
              "  outputElement.steps = steps;\n",
              "\n",
              "  return _uploadFilesContinue(outputId);\n",
              "}\n",
              "\n",
              "// This is roughly an async generator (not supported in the browser yet),\n",
              "// where there are multiple asynchronous steps and the Python side is going\n",
              "// to poll for completion of each step.\n",
              "// This uses a Promise to block the python side on completion of each step,\n",
              "// then passes the result of the previous step as the input to the next step.\n",
              "function _uploadFilesContinue(outputId) {\n",
              "  const outputElement = document.getElementById(outputId);\n",
              "  const steps = outputElement.steps;\n",
              "\n",
              "  const next = steps.next(outputElement.lastPromiseValue);\n",
              "  return Promise.resolve(next.value.promise).then((value) => {\n",
              "    // Cache the last promise value to make it available to the next\n",
              "    // step of the generator.\n",
              "    outputElement.lastPromiseValue = value;\n",
              "    return next.value.response;\n",
              "  });\n",
              "}\n",
              "\n",
              "/**\n",
              " * Generator function which is called between each async step of the upload\n",
              " * process.\n",
              " * @param {string} inputId Element ID of the input file picker element.\n",
              " * @param {string} outputId Element ID of the output display.\n",
              " * @return {!Iterable<!Object>} Iterable of next steps.\n",
              " */\n",
              "function* uploadFilesStep(inputId, outputId) {\n",
              "  const inputElement = document.getElementById(inputId);\n",
              "  inputElement.disabled = false;\n",
              "\n",
              "  const outputElement = document.getElementById(outputId);\n",
              "  outputElement.innerHTML = '';\n",
              "\n",
              "  const pickedPromise = new Promise((resolve) => {\n",
              "    inputElement.addEventListener('change', (e) => {\n",
              "      resolve(e.target.files);\n",
              "    });\n",
              "  });\n",
              "\n",
              "  const cancel = document.createElement('button');\n",
              "  inputElement.parentElement.appendChild(cancel);\n",
              "  cancel.textContent = 'Cancel upload';\n",
              "  const cancelPromise = new Promise((resolve) => {\n",
              "    cancel.onclick = () => {\n",
              "      resolve(null);\n",
              "    };\n",
              "  });\n",
              "\n",
              "  // Wait for the user to pick the files.\n",
              "  const files = yield {\n",
              "    promise: Promise.race([pickedPromise, cancelPromise]),\n",
              "    response: {\n",
              "      action: 'starting',\n",
              "    }\n",
              "  };\n",
              "\n",
              "  cancel.remove();\n",
              "\n",
              "  // Disable the input element since further picks are not allowed.\n",
              "  inputElement.disabled = true;\n",
              "\n",
              "  if (!files) {\n",
              "    return {\n",
              "      response: {\n",
              "        action: 'complete',\n",
              "      }\n",
              "    };\n",
              "  }\n",
              "\n",
              "  for (const file of files) {\n",
              "    const li = document.createElement('li');\n",
              "    li.append(span(file.name, {fontWeight: 'bold'}));\n",
              "    li.append(span(\n",
              "        `(${file.type || 'n/a'}) - ${file.size} bytes, ` +\n",
              "        `last modified: ${\n",
              "            file.lastModifiedDate ? file.lastModifiedDate.toLocaleDateString() :\n",
              "                                    'n/a'} - `));\n",
              "    const percent = span('0% done');\n",
              "    li.appendChild(percent);\n",
              "\n",
              "    outputElement.appendChild(li);\n",
              "\n",
              "    const fileDataPromise = new Promise((resolve) => {\n",
              "      const reader = new FileReader();\n",
              "      reader.onload = (e) => {\n",
              "        resolve(e.target.result);\n",
              "      };\n",
              "      reader.readAsArrayBuffer(file);\n",
              "    });\n",
              "    // Wait for the data to be ready.\n",
              "    let fileData = yield {\n",
              "      promise: fileDataPromise,\n",
              "      response: {\n",
              "        action: 'continue',\n",
              "      }\n",
              "    };\n",
              "\n",
              "    // Use a chunked sending to avoid message size limits. See b/62115660.\n",
              "    let position = 0;\n",
              "    do {\n",
              "      const length = Math.min(fileData.byteLength - position, MAX_PAYLOAD_SIZE);\n",
              "      const chunk = new Uint8Array(fileData, position, length);\n",
              "      position += length;\n",
              "\n",
              "      const base64 = btoa(String.fromCharCode.apply(null, chunk));\n",
              "      yield {\n",
              "        response: {\n",
              "          action: 'append',\n",
              "          file: file.name,\n",
              "          data: base64,\n",
              "        },\n",
              "      };\n",
              "\n",
              "      let percentDone = fileData.byteLength === 0 ?\n",
              "          100 :\n",
              "          Math.round((position / fileData.byteLength) * 100);\n",
              "      percent.textContent = `${percentDone}% done`;\n",
              "\n",
              "    } while (position < fileData.byteLength);\n",
              "  }\n",
              "\n",
              "  // All done.\n",
              "  yield {\n",
              "    response: {\n",
              "      action: 'complete',\n",
              "    }\n",
              "  };\n",
              "}\n",
              "\n",
              "scope.google = scope.google || {};\n",
              "scope.google.colab = scope.google.colab || {};\n",
              "scope.google.colab._files = {\n",
              "  _uploadFiles,\n",
              "  _uploadFilesContinue,\n",
              "};\n",
              "})(self);\n",
              "</script> "
            ]
          },
          "metadata": {}
        },
        {
          "output_type": "stream",
          "name": "stdout",
          "text": [
            "Saving online_retail_II.csv to online_retail_II.csv\n",
            "        Invoice StockCode                          Description  Quantity  \\\n",
            "0        489434     85048  15CM CHRISTMAS GLASS BALL 20 LIGHTS        12   \n",
            "1        489434    79323P                   PINK CHERRY LIGHTS        12   \n",
            "2        489434    79323W                  WHITE CHERRY LIGHTS        12   \n",
            "3        489434     22041         RECORD FRAME 7\" SINGLE SIZE         48   \n",
            "4        489434     21232       STRAWBERRY CERAMIC TRINKET BOX        24   \n",
            "...         ...       ...                                  ...       ...   \n",
            "1067366  581587     22899         CHILDREN'S APRON DOLLY GIRL          6   \n",
            "1067367  581587     23254        CHILDRENS CUTLERY DOLLY GIRL          4   \n",
            "1067368  581587     23255      CHILDRENS CUTLERY CIRCUS PARADE         4   \n",
            "1067369  581587     22138        BAKING SET 9 PIECE RETROSPOT          3   \n",
            "1067370  581587      POST                              POSTAGE         1   \n",
            "\n",
            "                 InvoiceDate  Price  Customer ID         Country  \n",
            "0        2009-12-01 07:45:00   6.95      13085.0  United Kingdom  \n",
            "1        2009-12-01 07:45:00   6.75      13085.0  United Kingdom  \n",
            "2        2009-12-01 07:45:00   6.75      13085.0  United Kingdom  \n",
            "3        2009-12-01 07:45:00   2.10      13085.0  United Kingdom  \n",
            "4        2009-12-01 07:45:00   1.25      13085.0  United Kingdom  \n",
            "...                      ...    ...          ...             ...  \n",
            "1067366  2011-12-09 12:50:00   2.10      12680.0          France  \n",
            "1067367  2011-12-09 12:50:00   4.15      12680.0          France  \n",
            "1067368  2011-12-09 12:50:00   4.15      12680.0          France  \n",
            "1067369  2011-12-09 12:50:00   4.95      12680.0          France  \n",
            "1067370  2011-12-09 12:50:00  18.00      12680.0          France  \n",
            "\n",
            "[1067371 rows x 8 columns]\n"
          ]
        }
      ],
      "source": [
        "# import library\n",
        "import pandas as pd\n",
        "import matplotlib.pyplot as plt\n",
        "from google.colab import files\n",
        "\n",
        "# upload dataset online_retail_II.csv\n",
        "files.upload()\n",
        "data = pd.read_csv('online_retail_II.csv')\n",
        "\n",
        "# print data\n",
        "print(data)"
      ]
    },
    {
      "cell_type": "markdown",
      "source": [
        "## Section 1"
      ],
      "metadata": {
        "id": "QUaoqe-x1OQY"
      }
    },
    {
      "cell_type": "markdown",
      "source": [
        "### Create New Feature: Year"
      ],
      "metadata": {
        "id": "zV4JG18Y1PJp"
      }
    },
    {
      "cell_type": "code",
      "source": [
        "# convert 'InvoiceDate' to datatime format\n",
        "data['InvoiceDate'] = pd.to_datetime(data['InvoiceDate'])\n",
        "# create 'Year' column that contains year from 'InvoiceDate' column\n",
        "data['Year'] = pd.DatetimeIndex(data['InvoiceDate']).year\n",
        "# print data\n",
        "print(data)"
      ],
      "metadata": {
        "colab": {
          "base_uri": "https://localhost:8080/"
        },
        "id": "0O41Pl3i1QXT",
        "outputId": "d787cfa0-cad2-4b28-b4ee-266105086c29"
      },
      "execution_count": 3,
      "outputs": [
        {
          "output_type": "stream",
          "name": "stdout",
          "text": [
            "        Invoice StockCode                          Description  Quantity  \\\n",
            "0        489434     85048  15CM CHRISTMAS GLASS BALL 20 LIGHTS        12   \n",
            "1        489434    79323P                   PINK CHERRY LIGHTS        12   \n",
            "2        489434    79323W                  WHITE CHERRY LIGHTS        12   \n",
            "3        489434     22041         RECORD FRAME 7\" SINGLE SIZE         48   \n",
            "4        489434     21232       STRAWBERRY CERAMIC TRINKET BOX        24   \n",
            "...         ...       ...                                  ...       ...   \n",
            "1067366  581587     22899         CHILDREN'S APRON DOLLY GIRL          6   \n",
            "1067367  581587     23254        CHILDRENS CUTLERY DOLLY GIRL          4   \n",
            "1067368  581587     23255      CHILDRENS CUTLERY CIRCUS PARADE         4   \n",
            "1067369  581587     22138        BAKING SET 9 PIECE RETROSPOT          3   \n",
            "1067370  581587      POST                              POSTAGE         1   \n",
            "\n",
            "                InvoiceDate  Price  Customer ID         Country  Year  \n",
            "0       2009-12-01 07:45:00   6.95      13085.0  United Kingdom  2009  \n",
            "1       2009-12-01 07:45:00   6.75      13085.0  United Kingdom  2009  \n",
            "2       2009-12-01 07:45:00   6.75      13085.0  United Kingdom  2009  \n",
            "3       2009-12-01 07:45:00   2.10      13085.0  United Kingdom  2009  \n",
            "4       2009-12-01 07:45:00   1.25      13085.0  United Kingdom  2009  \n",
            "...                     ...    ...          ...             ...   ...  \n",
            "1067366 2011-12-09 12:50:00   2.10      12680.0          France  2011  \n",
            "1067367 2011-12-09 12:50:00   4.15      12680.0          France  2011  \n",
            "1067368 2011-12-09 12:50:00   4.15      12680.0          France  2011  \n",
            "1067369 2011-12-09 12:50:00   4.95      12680.0          France  2011  \n",
            "1067370 2011-12-09 12:50:00  18.00      12680.0          France  2011  \n",
            "\n",
            "[1067371 rows x 9 columns]\n"
          ]
        }
      ]
    },
    {
      "cell_type": "markdown",
      "source": [
        "### Filtering Data"
      ],
      "metadata": {
        "id": "cGatlsOL1Soi"
      }
    },
    {
      "cell_type": "code",
      "source": [
        "# filter data based on conditions\n",
        "sales = data[(data['Quantity'] > 0) & (~data['Invoice'].str.startswith('C'))]\n",
        "# print sales\n",
        "print(sales)"
      ],
      "metadata": {
        "colab": {
          "base_uri": "https://localhost:8080/"
        },
        "id": "N4ejBvsF1UaB",
        "outputId": "3fa7ab08-82f1-4500-f6d7-cc2b74456190"
      },
      "execution_count": 4,
      "outputs": [
        {
          "output_type": "stream",
          "name": "stdout",
          "text": [
            "        Invoice StockCode                          Description  Quantity  \\\n",
            "0        489434     85048  15CM CHRISTMAS GLASS BALL 20 LIGHTS        12   \n",
            "1        489434    79323P                   PINK CHERRY LIGHTS        12   \n",
            "2        489434    79323W                  WHITE CHERRY LIGHTS        12   \n",
            "3        489434     22041         RECORD FRAME 7\" SINGLE SIZE         48   \n",
            "4        489434     21232       STRAWBERRY CERAMIC TRINKET BOX        24   \n",
            "...         ...       ...                                  ...       ...   \n",
            "1067366  581587     22899         CHILDREN'S APRON DOLLY GIRL          6   \n",
            "1067367  581587     23254        CHILDRENS CUTLERY DOLLY GIRL          4   \n",
            "1067368  581587     23255      CHILDRENS CUTLERY CIRCUS PARADE         4   \n",
            "1067369  581587     22138        BAKING SET 9 PIECE RETROSPOT          3   \n",
            "1067370  581587      POST                              POSTAGE         1   \n",
            "\n",
            "                InvoiceDate  Price  Customer ID         Country  Year  \n",
            "0       2009-12-01 07:45:00   6.95      13085.0  United Kingdom  2009  \n",
            "1       2009-12-01 07:45:00   6.75      13085.0  United Kingdom  2009  \n",
            "2       2009-12-01 07:45:00   6.75      13085.0  United Kingdom  2009  \n",
            "3       2009-12-01 07:45:00   2.10      13085.0  United Kingdom  2009  \n",
            "4       2009-12-01 07:45:00   1.25      13085.0  United Kingdom  2009  \n",
            "...                     ...    ...          ...             ...   ...  \n",
            "1067366 2011-12-09 12:50:00   2.10      12680.0          France  2011  \n",
            "1067367 2011-12-09 12:50:00   4.15      12680.0          France  2011  \n",
            "1067368 2011-12-09 12:50:00   4.15      12680.0          France  2011  \n",
            "1067369 2011-12-09 12:50:00   4.95      12680.0          France  2011  \n",
            "1067370 2011-12-09 12:50:00  18.00      12680.0          France  2011  \n",
            "\n",
            "[1044420 rows x 9 columns]\n"
          ]
        }
      ]
    },
    {
      "cell_type": "markdown",
      "source": [
        "### Create New Feature: Revenue"
      ],
      "metadata": {
        "id": "Cy4o7bQX1Vp-"
      }
    },
    {
      "cell_type": "code",
      "source": [
        "# create 'Revenue' column that contains 'Quantity' * 'Price'\n",
        "data['Revenue'] = data['Quantity'] * data['Price']\n",
        "# print data\n",
        "print(data)"
      ],
      "metadata": {
        "colab": {
          "base_uri": "https://localhost:8080/"
        },
        "id": "9bDPk9UT1YME",
        "outputId": "2593ece0-074c-4d17-bb34-9fe34e8892d6"
      },
      "execution_count": 5,
      "outputs": [
        {
          "output_type": "stream",
          "name": "stdout",
          "text": [
            "        Invoice StockCode                          Description  Quantity  \\\n",
            "0        489434     85048  15CM CHRISTMAS GLASS BALL 20 LIGHTS        12   \n",
            "1        489434    79323P                   PINK CHERRY LIGHTS        12   \n",
            "2        489434    79323W                  WHITE CHERRY LIGHTS        12   \n",
            "3        489434     22041         RECORD FRAME 7\" SINGLE SIZE         48   \n",
            "4        489434     21232       STRAWBERRY CERAMIC TRINKET BOX        24   \n",
            "...         ...       ...                                  ...       ...   \n",
            "1067366  581587     22899         CHILDREN'S APRON DOLLY GIRL          6   \n",
            "1067367  581587     23254        CHILDRENS CUTLERY DOLLY GIRL          4   \n",
            "1067368  581587     23255      CHILDRENS CUTLERY CIRCUS PARADE         4   \n",
            "1067369  581587     22138        BAKING SET 9 PIECE RETROSPOT          3   \n",
            "1067370  581587      POST                              POSTAGE         1   \n",
            "\n",
            "                InvoiceDate  Price  Customer ID         Country  Year  Revenue  \n",
            "0       2009-12-01 07:45:00   6.95      13085.0  United Kingdom  2009    83.40  \n",
            "1       2009-12-01 07:45:00   6.75      13085.0  United Kingdom  2009    81.00  \n",
            "2       2009-12-01 07:45:00   6.75      13085.0  United Kingdom  2009    81.00  \n",
            "3       2009-12-01 07:45:00   2.10      13085.0  United Kingdom  2009   100.80  \n",
            "4       2009-12-01 07:45:00   1.25      13085.0  United Kingdom  2009    30.00  \n",
            "...                     ...    ...          ...             ...   ...      ...  \n",
            "1067366 2011-12-09 12:50:00   2.10      12680.0          France  2011    12.60  \n",
            "1067367 2011-12-09 12:50:00   4.15      12680.0          France  2011    16.60  \n",
            "1067368 2011-12-09 12:50:00   4.15      12680.0          France  2011    16.60  \n",
            "1067369 2011-12-09 12:50:00   4.95      12680.0          France  2011    14.85  \n",
            "1067370 2011-12-09 12:50:00  18.00      12680.0          France  2011    18.00  \n",
            "\n",
            "[1067371 rows x 10 columns]\n"
          ]
        }
      ]
    },
    {
      "cell_type": "markdown",
      "source": [
        "### Average of Revenue per Year"
      ],
      "metadata": {
        "id": "uhtdeRqM1bkL"
      }
    },
    {
      "cell_type": "code",
      "source": [
        "# calculate average revenue per year\n",
        "average_revenue = data.groupby('Year')['Revenue'].mean()\n",
        "# create visualization\n",
        "plt.plot(average_revenue.index, average_revenue.values)\n",
        "plt.xticks(average_revenue.index, labels=average_revenue.index)\n",
        "plt.title('Average Revenue per Year')\n",
        "plt.xlabel('Year')\n",
        "plt.ylabel('Average Revenue')\n",
        "plt.show()"
      ],
      "metadata": {
        "colab": {
          "base_uri": "https://localhost:8080/",
          "height": 472
        },
        "id": "ZsanM3jQ1a3B",
        "outputId": "4ce9746c-1beb-4f5b-986c-7cf65d93b195"
      },
      "execution_count": 6,
      "outputs": [
        {
          "output_type": "display_data",
          "data": {
            "text/plain": [
              "<Figure size 640x480 with 1 Axes>"
            ],
            "image/png": "[encoded data removed]"
          },
          "metadata": {}
        }
      ]
    },
    {
      "cell_type": "markdown",
      "source": [
        "### Interpretation"
      ],
      "metadata": {
        "id": "6UWYWMlM1fWu"
      }
    },
    {
      "cell_type": "markdown",
      "source": [
        ">Based on the visualization output of number 4, average revenue per year has remained relatively stable, with only a slight increase from 2009 to 2010 and a light decrease from 2010 to 2011. This may suggest that the company has been able to maintain a consistent level of sales over the years without experiencing significant fluctuations."
      ],
      "metadata": {
        "id": "Tw_5TyZr1ilp"
      }
    },
    {
      "cell_type": "markdown",
      "source": [
        "## Section 2"
      ],
      "metadata": {
        "id": "-NOqmrxh1kUZ"
      }
    },
    {
      "cell_type": "markdown",
      "source": [
        "### Filtering Data"
      ],
      "metadata": {
        "id": "MivKsIX91nOe"
      }
    },
    {
      "cell_type": "markdown",
      "source": [
        "#### Customers who finished their purchases"
      ],
      "metadata": {
        "id": "Tc7_JDRR1osZ"
      }
    },
    {
      "cell_type": "code",
      "source": [
        "# filter data for customers that made purchases\n",
        "finished = sales[sales['Customer ID'].notna()]\n",
        "# print finished\n",
        "print(finished)"
      ],
      "metadata": {
        "colab": {
          "base_uri": "https://localhost:8080/"
        },
        "id": "Vx0ccU6_1hEH",
        "outputId": "4913cc9e-9eb1-4060-91be-617d5ebe0204"
      },
      "execution_count": 7,
      "outputs": [
        {
          "output_type": "stream",
          "name": "stdout",
          "text": [
            "        Invoice StockCode                          Description  Quantity  \\\n",
            "0        489434     85048  15CM CHRISTMAS GLASS BALL 20 LIGHTS        12   \n",
            "1        489434    79323P                   PINK CHERRY LIGHTS        12   \n",
            "2        489434    79323W                  WHITE CHERRY LIGHTS        12   \n",
            "3        489434     22041         RECORD FRAME 7\" SINGLE SIZE         48   \n",
            "4        489434     21232       STRAWBERRY CERAMIC TRINKET BOX        24   \n",
            "...         ...       ...                                  ...       ...   \n",
            "1067366  581587     22899         CHILDREN'S APRON DOLLY GIRL          6   \n",
            "1067367  581587     23254        CHILDRENS CUTLERY DOLLY GIRL          4   \n",
            "1067368  581587     23255      CHILDRENS CUTLERY CIRCUS PARADE         4   \n",
            "1067369  581587     22138        BAKING SET 9 PIECE RETROSPOT          3   \n",
            "1067370  581587      POST                              POSTAGE         1   \n",
            "\n",
            "                InvoiceDate  Price  Customer ID         Country  Year  \n",
            "0       2009-12-01 07:45:00   6.95      13085.0  United Kingdom  2009  \n",
            "1       2009-12-01 07:45:00   6.75      13085.0  United Kingdom  2009  \n",
            "2       2009-12-01 07:45:00   6.75      13085.0  United Kingdom  2009  \n",
            "3       2009-12-01 07:45:00   2.10      13085.0  United Kingdom  2009  \n",
            "4       2009-12-01 07:45:00   1.25      13085.0  United Kingdom  2009  \n",
            "...                     ...    ...          ...             ...   ...  \n",
            "1067366 2011-12-09 12:50:00   2.10      12680.0          France  2011  \n",
            "1067367 2011-12-09 12:50:00   4.15      12680.0          France  2011  \n",
            "1067368 2011-12-09 12:50:00   4.15      12680.0          France  2011  \n",
            "1067369 2011-12-09 12:50:00   4.95      12680.0          France  2011  \n",
            "1067370 2011-12-09 12:50:00  18.00      12680.0          France  2011  \n",
            "\n",
            "[805620 rows x 9 columns]\n"
          ]
        }
      ]
    },
    {
      "cell_type": "markdown",
      "source": [
        "#### Customers who canceled their purchases"
      ],
      "metadata": {
        "id": "qzHnkeHs1sgH"
      }
    },
    {
      "cell_type": "code",
      "source": [
        "# filter data for customers that canceled their orders\n",
        "cancel = data[data['Invoice'].str.startswith('C')]\n",
        "# print cancel\n",
        "print(cancel)"
      ],
      "metadata": {
        "colab": {
          "base_uri": "https://localhost:8080/"
        },
        "id": "zxOIVeFL1vsq",
        "outputId": "d97dc614-a968-43b9-c3c4-b30d4e43d3e0"
      },
      "execution_count": 8,
      "outputs": [
        {
          "output_type": "stream",
          "name": "stdout",
          "text": [
            "         Invoice StockCode                       Description  Quantity  \\\n",
            "178      C489449     22087          PAPER BUNTING WHITE LACE       -12   \n",
            "179      C489449    85206A      CREAM FELT EASTER EGG BASKET        -6   \n",
            "180      C489449     21895     POTTING SHED SOW 'N' GROW SET        -4   \n",
            "181      C489449     21896                POTTING SHED TWINE        -6   \n",
            "182      C489449     22083        PAPER CHAIN KIT RETRO SPOT       -12   \n",
            "...          ...       ...                               ...       ...   \n",
            "1065910  C581490     23144   ZINC T-LIGHT HOLDER STARS SMALL       -11   \n",
            "1067002  C581499         M                            Manual        -1   \n",
            "1067176  C581568     21258        VICTORIAN SEWING BOX LARGE        -5   \n",
            "1067177  C581569     84978  HANGING HEART JAR T-LIGHT HOLDER        -1   \n",
            "1067178  C581569     20979     36 PENCILS TUBE RED RETROSPOT        -5   \n",
            "\n",
            "                InvoiceDate   Price  Customer ID         Country  Year  \\\n",
            "178     2009-12-01 10:33:00    2.95      16321.0       Australia  2009   \n",
            "179     2009-12-01 10:33:00    1.65      16321.0       Australia  2009   \n",
            "180     2009-12-01 10:33:00    4.25      16321.0       Australia  2009   \n",
            "181     2009-12-01 10:33:00    2.10      16321.0       Australia  2009   \n",
            "182     2009-12-01 10:33:00    2.95      16321.0       Australia  2009   \n",
            "...                     ...     ...          ...             ...   ...   \n",
            "1065910 2011-12-09 09:57:00    0.83      14397.0  United Kingdom  2011   \n",
            "1067002 2011-12-09 10:28:00  224.69      15498.0  United Kingdom  2011   \n",
            "1067176 2011-12-09 11:57:00   10.95      15311.0  United Kingdom  2011   \n",
            "1067177 2011-12-09 11:58:00    1.25      17315.0  United Kingdom  2011   \n",
            "1067178 2011-12-09 11:58:00    1.25      17315.0  United Kingdom  2011   \n",
            "\n",
            "         Revenue  \n",
            "178       -35.40  \n",
            "179        -9.90  \n",
            "180       -17.00  \n",
            "181       -12.60  \n",
            "182       -35.40  \n",
            "...          ...  \n",
            "1065910    -9.13  \n",
            "1067002  -224.69  \n",
            "1067176   -54.75  \n",
            "1067177    -1.25  \n",
            "1067178    -6.25  \n",
            "\n",
            "[19494 rows x 10 columns]\n"
          ]
        }
      ]
    },
    {
      "cell_type": "markdown",
      "source": [
        "### Number of Finished and Canceled Transactions Each Year"
      ],
      "metadata": {
        "id": "A2B3lsH21zrj"
      }
    },
    {
      "cell_type": "code",
      "source": [
        "# count successful transactions from finished variable\n",
        "success_count = finished.groupby('Year')['Invoice'].count()\n",
        "# count canceled transactions from cancel variable\n",
        "cancel_count = cancel.groupby('Year')['Invoice'].count()\n",
        "# create visualization\n",
        "plt.plot(success_count.index, success_count.values, label='Successful Transactions')\n",
        "plt.plot(cancel_count.index, cancel_count.values, label='Canceled Transactions')\n",
        "plt.xticks(success_count.index, labels=success_count.index)\n",
        "plt.title('Transactions per Year')\n",
        "plt.xlabel('Year')\n",
        "plt.ylabel('Number of Transactions')\n",
        "plt.legend()\n",
        "plt.show()"
      ],
      "metadata": {
        "colab": {
          "base_uri": "https://localhost:8080/",
          "height": 472
        },
        "id": "6-menA0i14Tl",
        "outputId": "2146d7db-2fa3-4000-f8dd-f4330bc5a78f"
      },
      "execution_count": 9,
      "outputs": [
        {
          "output_type": "display_data",
          "data": {
            "text/plain": [
              "<Figure size 640x480 with 1 Axes>"
            ],
            "image/png": "[encoded data removed]"
          },
          "metadata": {}
        }
      ]
    },
    {
      "cell_type": "markdown",
      "source": [
        "### Cancellation Rate"
      ],
      "metadata": {
        "id": "enTkSxO117ZF"
      }
    },
    {
      "cell_type": "code",
      "source": [
        "# count total customers that made purchases for each year\n",
        "total_customers = finished.groupby('Year')['Customer ID'].nunique()\n",
        "# count number of customers that canceled their orders for each year\n",
        "canceled_customers = cancel.groupby('Year')['Customer ID'].nunique()\n",
        "# calculate calcellation rate for each year\n",
        "cancellation_rate = (canceled_customers / total_customers) * 100\n",
        "# create visualization\n",
        "cancellation_rate.plot(kind='bar')\n",
        "plt.xlabel('Year')\n",
        "plt.ylabel('Cancellation Rate (%)')\n",
        "plt.title('Cancellation Rate by Year')\n",
        "plt.show()"
      ],
      "metadata": {
        "colab": {
          "base_uri": "https://localhost:8080/",
          "height": 493
        },
        "id": "SkNRkhjf1-wg",
        "outputId": "9716b45b-0f58-4faa-c432-72b2c5607c9c"
      },
      "execution_count": 10,
      "outputs": [
        {
          "output_type": "display_data",
          "data": {
            "text/plain": [
              "<Figure size 640x480 with 1 Axes>"
            ],
            "image/png": "[encoded data removed]"
          },
          "metadata": {}
        }
      ]
    },
    {
      "cell_type": "markdown",
      "source": [
        "### Interpretation"
      ],
      "metadata": {
        "id": "WpL552r82Chc"
      }
    },
    {
      "cell_type": "markdown",
      "source": [
        ">Based on the visualization output of numbers 3 and 4, successful transactions increased from 2009 to 2010 and decreased slightly in 2011. Besides that, the number of canceled transactions increased from 2009 to 2010 and decreased in 2011.\n",
        "\n",
        ">The cancellation rate in 2010 was higher than the other years, possibly due to various factors such as economic conditions or customer satisfaction. In 2011, the cancellation rate decreased even though the number of canceled transactions remained relatively high."
      ],
      "metadata": {
        "id": "HKWH2IGQ2FMH"
      }
    }
  ]
}